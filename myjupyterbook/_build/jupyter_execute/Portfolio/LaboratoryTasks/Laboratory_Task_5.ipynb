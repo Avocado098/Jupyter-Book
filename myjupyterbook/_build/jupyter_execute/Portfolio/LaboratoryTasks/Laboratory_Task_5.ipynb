{
 "cells": [
  {
   "cell_type": "markdown",
   "id": "afde93d8-4541-42d1-ad42-9167b7f72fd1",
   "metadata": {},
   "source": [
    "**Rachel Jasmine Canaman** <br>\n",
    "DS4A"
   ]
  },
  {
   "cell_type": "markdown",
   "id": "534cf5d5-b26a-4d63-b2e1-66bd2e84d29f",
   "metadata": {},
   "source": [
    "### Laboratory Task 5 ###"
   ]
  },
  {
   "cell_type": "markdown",
   "id": "5f7b9efb-7262-49a4-b6ae-8dfe6c73afa2",
   "metadata": {},
   "source": [
    "**1. Perform Standard Imports**"
   ]
  },
  {
   "cell_type": "code",
   "execution_count": 1,
   "id": "8f0dd5a6-478e-4912-9a76-aa1b6afcbf02",
   "metadata": {},
   "outputs": [],
   "source": [
    "import torch\n",
    "import numpy as np\n",
    "import sys"
   ]
  },
  {
   "cell_type": "markdown",
   "id": "c6d2cf2c-cdfa-4015-a088-f449ba3936db",
   "metadata": {},
   "source": [
    "**2. Create a function called set_seed() that accepts seed: int as a parameter, this function must return nothing but just set the seed to a certain value.**"
   ]
  },
  {
   "cell_type": "code",
   "execution_count": 2,
   "id": "de1375ce-4c57-4f78-a91d-5ed6ae9663ec",
   "metadata": {},
   "outputs": [],
   "source": [
    "def set_seed(seed: int) -> None:\n",
    "    random.seed(seed)\n",
    "    np.random.seed(seed)"
   ]
  },
  {
   "cell_type": "markdown",
   "id": "5f9736cf-cba1-4970-8d8a-3dc22c5ac27f",
   "metadata": {},
   "source": [
    "**3. Create a NumPy array called \"arr\" that contains 6 random integers between 0 (inclusive) and 5 (exclusive), call the set_seed() function and use 42 as the seed parameter.**"
   ]
  },
  {
   "cell_type": "code",
   "execution_count": 3,
   "id": "24fa6a59-21a5-4c35-9b0e-209506b423bb",
   "metadata": {},
   "outputs": [],
   "source": [
    "import random"
   ]
  },
  {
   "cell_type": "code",
   "execution_count": 4,
   "id": "bd1764ae-9a8e-4bc8-b8a1-9e7ffa033f35",
   "metadata": {},
   "outputs": [
    {
     "name": "stdout",
     "output_type": "stream",
     "text": [
      "[3 4 2 4 4 1]\n"
     ]
    }
   ],
   "source": [
    "set_seed(42)\n",
    "\n",
    "arr = np.random.randint(0,5, size=6)\n",
    "print(arr)"
   ]
  },
  {
   "cell_type": "markdown",
   "id": "b529385b-9f01-4e6b-9703-b0413c32baa7",
   "metadata": {},
   "source": [
    "**4. Create a tensor \"x\" from the array above**"
   ]
  },
  {
   "cell_type": "code",
   "execution_count": 5,
   "id": "809a44b8-9e9d-4e5f-bd7f-b391995ece87",
   "metadata": {},
   "outputs": [
    {
     "name": "stdout",
     "output_type": "stream",
     "text": [
      "tensor([3, 4, 2, 4, 4, 1], dtype=torch.int32)\n"
     ]
    }
   ],
   "source": [
    "x = torch.from_numpy(arr)\n",
    "print(x)"
   ]
  },
  {
   "cell_type": "markdown",
   "id": "ee3168b1-6755-4312-b63c-1725ebf6df46",
   "metadata": {},
   "source": [
    "**5. Change the dtype of x from int32 to int64**"
   ]
  },
  {
   "cell_type": "code",
   "execution_count": 6,
   "id": "327d309e-8ddb-4e39-9ab0-5a160362bb94",
   "metadata": {},
   "outputs": [
    {
     "name": "stdout",
     "output_type": "stream",
     "text": [
      "tensor([3, 4, 2, 4, 4, 1])\n",
      "torch.int64\n"
     ]
    }
   ],
   "source": [
    "x = x.to(torch.int64)\n",
    "\n",
    "print(x)\n",
    "print(x.dtype)"
   ]
  },
  {
   "cell_type": "markdown",
   "id": "eed87988-1b85-4386-a46d-07ca162ae834",
   "metadata": {},
   "source": [
    "**6. Reshape x into a 3x2 tensor** <br>\n",
    "There are several ways to do this.\n"
   ]
  },
  {
   "cell_type": "code",
   "execution_count": 7,
   "id": "9f0672ff-528a-431c-8fa0-ef0c65628a5e",
   "metadata": {},
   "outputs": [
    {
     "name": "stdout",
     "output_type": "stream",
     "text": [
      "tensor([[3, 4],\n",
      "        [2, 4],\n",
      "        [4, 1]])\n"
     ]
    }
   ],
   "source": [
    "x = x.reshape(3,2)\n",
    "\n",
    "print(x)"
   ]
  },
  {
   "cell_type": "markdown",
   "id": "4c9c5634-973c-41c8-bae4-ea64b69964af",
   "metadata": {},
   "source": [
    "**7. Return the right-hand column of tensor x**"
   ]
  },
  {
   "cell_type": "code",
   "execution_count": 8,
   "id": "e4bd4753-8b40-43ef-ae09-52c8ad21fab9",
   "metadata": {},
   "outputs": [
    {
     "name": "stdout",
     "output_type": "stream",
     "text": [
      "tensor([4, 4, 1])\n"
     ]
    }
   ],
   "source": [
    "rh = x[:,1]\n",
    "\n",
    "print(rh)"
   ]
  },
  {
   "cell_type": "markdown",
   "id": "64ed408f-093a-4dfb-a46b-fc1b3fcd8736",
   "metadata": {},
   "source": [
    "**8. Without changing x, return a tensor of square values of x** <br>\n",
    "There are several ways to do this."
   ]
  },
  {
   "cell_type": "code",
   "execution_count": 9,
   "id": "a1a7bfc3-af0f-49a3-bdf1-f69812945ba8",
   "metadata": {},
   "outputs": [
    {
     "name": "stdout",
     "output_type": "stream",
     "text": [
      "\n"
     ]
    }
   ],
   "source": [
    "x_square = x**2\n",
    "print()"
   ]
  },
  {
   "cell_type": "markdown",
   "id": "73c5c61a-b6e2-4d9d-87b6-9aca18226236",
   "metadata": {},
   "source": [
    "**9. Create a tensor y with the same number of elements as x, that can be matrix-multiplied with x** <br>\n",
    "Use PyTorch directly (not NumPy) to create a tensor of random integers between 0 (inclusive) and 5 (exclusive). Use 42 as seed.\n",
    "Think about what shape it should have to permit matrix multiplication."
   ]
  },
  {
   "cell_type": "code",
   "execution_count": 10,
   "id": "29a69b62-e136-471f-9c9c-28f3a9ac218a",
   "metadata": {},
   "outputs": [
    {
     "data": {
      "text/plain": [
       "tensor([[4, 3, 3],\n",
       "        [4, 0, 3]])"
      ]
     },
     "execution_count": 10,
     "metadata": {},
     "output_type": "execute_result"
    }
   ],
   "source": [
    "y = torch.randint(0,5, (2,3))\n",
    "torch.manual_seed(42)\n",
    "\n",
    "y"
   ]
  },
  {
   "cell_type": "markdown",
   "id": "5921779c-377d-4114-85ba-6b3aabf9ccdc",
   "metadata": {},
   "source": [
    "**10. Find the matrix product of x and y.**"
   ]
  },
  {
   "cell_type": "code",
   "execution_count": 11,
   "id": "76e7145f-9afe-4e4b-bd6d-9dad94a786b7",
   "metadata": {},
   "outputs": [
    {
     "data": {
      "text/plain": [
       "tensor([[28,  9, 21],\n",
       "        [24,  6, 18],\n",
       "        [20, 12, 15]])"
      ]
     },
     "execution_count": 11,
     "metadata": {},
     "output_type": "execute_result"
    }
   ],
   "source": [
    "matrix_product = torch.matmul(x,y)\n",
    "matrix_product"
   ]
  },
  {
   "cell_type": "code",
   "execution_count": null,
   "id": "b0600dea-8474-4c79-9c5e-94cf24511855",
   "metadata": {},
   "outputs": [],
   "source": []
  }
 ],
 "metadata": {
  "kernelspec": {
   "display_name": "Python 3 (ipykernel)",
   "language": "python",
   "name": "python3"
  },
  "language_info": {
   "codemirror_mode": {
    "name": "ipython",
    "version": 3
   },
   "file_extension": ".py",
   "mimetype": "text/x-python",
   "name": "python",
   "nbconvert_exporter": "python",
   "pygments_lexer": "ipython3",
   "version": "3.12.6"
  }
 },
 "nbformat": 4,
 "nbformat_minor": 5
}