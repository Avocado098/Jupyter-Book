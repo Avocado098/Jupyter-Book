{
 "cells": [
  {
   "cell_type": "markdown",
   "id": "b0d914bf-ffb1-455f-b31c-ec7115e12a3a",
   "metadata": {},
   "source": [
    "Name: **Rachel Jasmine Canaman** <br>\n",
    "Section: **DS4A**"
   ]
  },
  {
   "cell_type": "markdown",
   "id": "0a20cb55-7888-41ec-b21f-7ddda3acbdc8",
   "metadata": {},
   "source": [
    "# Laboratory Task 6"
   ]
  },
  {
   "cell_type": "markdown",
   "id": "243ad9e2-979b-46ce-a56c-fe857b38bce5",
   "metadata": {},
   "source": [
    "![Result Image](image4.png)"
   ]
  },
  {
   "cell_type": "markdown",
   "id": "95456091-1841-456a-b68c-a96b3bf7d525",
   "metadata": {},
   "source": [
    "**Objective:** <br>\n",
    "Convert the given CNN architecture diagram into a PyTorch CNN model."
   ]
  },
  {
   "cell_type": "markdown",
   "id": "fd85ac32-f793-4807-8676-9b5559243307",
   "metadata": {},
   "source": [
    "**Step 1: Import Libraries**"
   ]
  },
  {
   "cell_type": "code",
   "execution_count": 1,
   "id": "8ec1cd60-56b3-40f3-8f2a-9732216aa26b",
   "metadata": {},
   "outputs": [],
   "source": [
    "import torch\n",
    "import torch.nn as nn\n",
    "import torch.nn.functional as F\n",
    "from torch.utils.data import DataLoader\n",
    "from torchvision import datasets, transforms\n",
    "\n",
    "import random\n",
    "import numpy as np\n",
    "from sklearn.metrics import confusion_matrix, classification_report, accuracy_score\n",
    "import matplotlib.pyplot as plt"
   ]
  },
  {
   "cell_type": "markdown",
   "id": "19779324-0926-4acd-a003-7151137b670d",
   "metadata": {},
   "source": [
    "**Step 2: Load Dataset** <br>\n",
    "Downloads and transforms MNIST dataset into tensors."
   ]
  },
  {
   "cell_type": "code",
   "execution_count": 2,
   "id": "58d9571e-970f-4562-a69b-3a14ca6f3ec4",
   "metadata": {},
   "outputs": [],
   "source": [
    "transform = transforms.ToTensor()\n",
    "\n",
    "train_data = datasets.MNIST(root='data', train=True, download=True, transform=transform)\n",
    "test_data  = datasets.MNIST(root='data', train=False, download=True, transform=transform)"
   ]
  },
  {
   "cell_type": "markdown",
   "id": "74431fd3-f528-4568-9e3e-f357db37c930",
   "metadata": {},
   "source": [
    "**Step 3: Split into Training and Validation Sets** <br>\n",
    "Splits the training data into 80% training and 20% validation for performance monitoring."
   ]
  },
  {
   "cell_type": "code",
   "execution_count": 3,
   "id": "e75e53c7-0e92-4524-8b80-3a928fe63dec",
   "metadata": {},
   "outputs": [],
   "source": [
    "train_set, val_set = torch.utils.data.random_split(train_data, [0.8, 0.2])"
   ]
  },
  {
   "cell_type": "markdown",
   "id": "aecb643c-c313-4bfc-ac19-54491457ac45",
   "metadata": {},
   "source": [
    "**Step 4: Set Random Seed**"
   ]
  },
  {
   "cell_type": "code",
   "execution_count": 4,
   "id": "4ccf2f2e-7ad4-49ef-880e-f185a62bcbae",
   "metadata": {},
   "outputs": [],
   "source": [
    "def set_seed(seed):\n",
    "    np.random.seed(seed)\n",
    "    torch.manual_seed(seed)\n",
    "    random.seed(seed)\n",
    "\n",
    "set_seed(143)"
   ]
  },
  {
   "cell_type": "markdown",
   "id": "f3725aae-3da4-49c6-bfcc-a30ffdee197f",
   "metadata": {},
   "source": [
    "**Step 5: Create Data Loaders** <br>\n",
    "Loads the data in small batches for efficient training and evaluation."
   ]
  },
  {
   "cell_type": "code",
   "execution_count": 6,
   "id": "230a9d64-fcda-4d60-aaf0-b20337cb43a5",
   "metadata": {},
   "outputs": [],
   "source": [
    "batch_size = 10\n",
    "train_loader = DataLoader(train_set, batch_size=batch_size, shuffle=True)\n",
    "val_loader = DataLoader(val_set, batch_size=batch_size, shuffle=True)\n",
    "test_loader = DataLoader(test_data, batch_size=batch_size, shuffle=False)"
   ]
  },
  {
   "cell_type": "markdown",
   "id": "938436cd-dcf1-41a1-9778-0b9b9a515b1f",
   "metadata": {},
   "source": [
    "**Step 6: Define the CNN Architecture**"
   ]
  },
  {
   "cell_type": "code",
   "execution_count": 7,
   "id": "9d48fc98-a0da-4eb0-bbac-93e2ae467144",
   "metadata": {},
   "outputs": [],
   "source": [
    "# Define the CNN architecture\n",
    "class CNN(nn.Module):\n",
    "    def __init__(self):\n",
    "        super().__init__()\n",
    "        # Convolutional Layers\n",
    "        self.conv1 = nn.Conv2d(1, 32, kernel_size=3, stride=1, padding=1)\n",
    "        self.pool1 = nn.MaxPool2d(kernel_size=2, stride=2, padding=0)\n",
    "\n",
    "        self.conv2 = nn.Conv2d(32, 64, kernel_size=3, stride=1, padding=1)\n",
    "        self.conv3 = nn.Conv2d(64, 128, kernel_size=3, stride=1, padding=1)\n",
    "        self.conv4 = nn.Conv2d(128, 256, kernel_size=3, stride=1, padding=1)\n",
    "        self.pool2 = nn.MaxPool2d(kernel_size=2, stride=2, padding=0)\n",
    "\n",
    "        # Dropout and Fully Connected Layers\n",
    "        self.dropout = nn.Dropout(p=0.2)\n",
    "        self.flatten = nn.Flatten()\n",
    "        self.fcn1 = nn.Linear(256*7*7, 1000)\n",
    "        self.fcn2 = nn.Linear(1000, 500)\n",
    "        self.fcn3 = nn.Linear(500, 10)\n",
    "\n",
    "    def forward(self, x):\n",
    "        x = F.relu(self.conv1(x))\n",
    "        x = self.pool1(x)\n",
    "        x = F.relu(self.conv2(x))\n",
    "        x = F.relu(self.conv3(x))\n",
    "        x = F.relu(self.conv4(x))\n",
    "        x = self.pool2(x)\n",
    "        x = self.dropout(x)\n",
    "        x = self.flatten(x)\n",
    "        x = F.relu(self.fcn1(x))\n",
    "        x = F.relu(self.fcn2(x))\n",
    "        x = self.fcn3(x)\n",
    "        return x"
   ]
  },
  {
   "cell_type": "markdown",
   "id": "ceab9a31-cd28-40e7-967b-3bc253bdd641",
   "metadata": {},
   "source": [
    "**Step 7: Train the Model** <br>\n",
    "Trains the CNN using Adam optimizer, computes loss, performs backpropagation, and evaluates accuracy on validation data."
   ]
  },
  {
   "cell_type": "code",
   "execution_count": null,
   "id": "425eb3b6-8158-4b1e-a3ed-117fc65c77bb",
   "metadata": {},
   "outputs": [],
   "source": [
    "device = torch.device('cuda' if torch.cuda.is_available() else 'cpu')\n",
    "model = CNN().to(device)\n",
    "criterion = nn.CrossEntropyLoss()\n",
    "optimizer = torch.optim.Adam(model.parameters(), lr=0.001)\n",
    "epochs = 5\n",
    "\n",
    "for epoch in range(epochs):\n",
    "    model.train()\n",
    "    train_corr = 0\n",
    "    for x_train, y_train in train_loader:\n",
    "        x_train, y_train = x_train.to(device), y_train.to(device)\n",
    "        \n",
    "        output = model(x_train)\n",
    "        loss = criterion(output, y_train)\n",
    "\n",
    "        optimizer.zero_grad()\n",
    "        loss.backward()\n",
    "        optimizer.step()\n",
    "\n",
    "        pred = output.argmax(dim=1)\n",
    "        train_corr += pred.eq(y_train).sum().item()\n",
    "\n",
    "    model.eval()\n",
    "    val_corr = 0\n",
    "    with torch.no_grad():\n",
    "        for x_val, y_val in val_loader:\n",
    "            x_val, y_val = x_val.to(device), y_val.to(device)\n",
    "            output = model(x_val)\n",
    "            pred = output.argmax(dim=1)\n",
    "            val_corr += pred.eq(y_val).sum().item()\n",
    "\n",
    "    train_acc = train_corr / len(train_set)\n",
    "    val_acc = val_corr / len(val_set)\n",
    "\n",
    "    print(f\"Epoch {epoch+1}: Train Acc = {train_acc:.4f}, Val Acc = {val_acc:.4f}\")"
   ]
  },
  {
   "cell_type": "markdown",
   "id": "3f064da3-061f-4382-afa0-cf5613670493",
   "metadata": {},
   "source": [
    "**Step 8: Testing and Confusion Matrix** <br>\n",
    "Evaluates the model on unseen test data and prints a confusion matrix to assess prediction quality."
   ]
  },
  {
   "cell_type": "code",
   "execution_count": null,
   "id": "0ea8c247-be41-4b6c-b249-4c7e9d29d195",
   "metadata": {},
   "outputs": [],
   "source": [
    "true_labels = []\n",
    "pred_labels = []\n",
    "\n",
    "with torch.no_grad():\n",
    "    for b, (x_test, y_test) in enumerate(test_loader):\n",
    "        x_test = x_test.to(device)\n",
    "        y_test = y_test.to(device)\n",
    "        test_pred = model(x_test)\n",
    "        test_pred_vec = torch.max(test_pred.data, 1)[1]\n",
    "        true_labels.append(y_test)\n",
    "        pred_labels.append(test_pred_vec)\n",
    "\n",
    "true_labels = torch.cat(true_labels, dim=0)\n",
    "pred_labels = torch.cat(pred_labels, dim=0)\n",
    "\n",
    "cm = confusion_matrix(true_labels.to('cpu'), pred_labels.to('cpu'))\n",
    "print(\"Confusion Matrix:\\n\", cm)"
   ]
  }
 ],
 "metadata": {
  "kernelspec": {
   "display_name": "Python 3 (ipykernel)",
   "language": "python",
   "name": "python3"
  },
  "language_info": {
   "codemirror_mode": {
    "name": "ipython",
    "version": 3
   },
   "file_extension": ".py",
   "mimetype": "text/x-python",
   "name": "python",
   "nbconvert_exporter": "python",
   "pygments_lexer": "ipython3",
   "version": "3.12.6"
  }
 },
 "nbformat": 4,
 "nbformat_minor": 5
}