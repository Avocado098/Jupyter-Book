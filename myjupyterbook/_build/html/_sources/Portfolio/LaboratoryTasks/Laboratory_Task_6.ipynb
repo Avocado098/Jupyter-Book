{
  "cells": [
    {
      "cell_type": "markdown",
      "metadata": {
        "id": "C61bCZ90AKqu"
      },
      "source": [
        "Name: **Rachel Jasmine Canaman** <br>\n",
        "Section: **DS4A**"
      ]
    },
    {
      "cell_type": "markdown",
      "metadata": {
        "id": "WjLrHIMO-5Uj"
      },
      "source": [
        "# Laboratory Task 6"
      ]
    },
    {
      "cell_type": "markdown",
      "metadata": {
        "id": "7LC-fm59AYMK"
      },
      "source": [
        "![Result Image](image4.png)"
      ]
    },
    {
      "cell_type": "markdown",
      "metadata": {
        "id": "4lT-8mmFAkyc"
      },
      "source": [
        "**Objective:** <br>\n",
        "Convert the given CNN architecture diagram into a PyTorch CNN model."
      ]
    },
    {
      "cell_type": "code",
      "execution_count": null,
      "metadata": {
        "id": "JtQyjOsBy681"
      },
      "outputs": [],
      "source": [
        "# Step 1: Import Required Libraries\n",
        "\n",
        "import torch\n",
        "import torch.nn as nn\n",
        "import torch.nn.functional as F\n",
        "import torch.optim as optim\n",
        "from torchvision import datasets, transforms\n",
        "from torch.utils.data import DataLoader"
      ]
    },
    {
      "cell_type": "code",
      "execution_count": null,
      "metadata": {
        "colab": {
          "base_uri": "https://localhost:8080/"
        },
        "id": "c_77-bwdzB9I",
        "outputId": "8ffc4612-f06a-4d8f-bcdb-bd4691f1a5a5"
      },
      "outputs": [
        {
          "name": "stderr",
          "output_type": "stream",
          "text": [
            "100%|██████████| 9.91M/9.91M [00:00<00:00, 18.8MB/s]\n",
            "100%|██████████| 28.9k/28.9k [00:00<00:00, 499kB/s]\n",
            "100%|██████████| 1.65M/1.65M [00:00<00:00, 4.61MB/s]\n",
            "100%|██████████| 4.54k/4.54k [00:00<00:00, 5.19MB/s]\n"
          ]
        }
      ],
      "source": [
        "# STEP 2: Load and Prepare Dataset\n",
        "# We use the MNIST dataset (28x28 grayscale images)\n",
        "\n",
        "transform = transforms.Compose([\n",
        "    transforms.ToTensor(),\n",
        "    transforms.Normalize((0.5,), (0.5,))\n",
        "])\n",
        "\n",
        "train_dataset = datasets.MNIST(root='./data', train=True, download=True, transform=transform)\n",
        "test_dataset = datasets.MNIST(root='./data', train=False, download=True, transform=transform)\n",
        "\n",
        "train_loader = DataLoader(train_dataset, batch_size=32, shuffle=True)\n",
        "test_loader = DataLoader(test_dataset, batch_size=32, shuffle=False)"
      ]
    },
    {
      "cell_type": "code",
      "execution_count": null,
      "metadata": {
        "colab": {
          "base_uri": "https://localhost:8080/"
        },
        "id": "wYCk-RNEzJWp",
        "outputId": "683b860f-ba81-4454-ed3e-fbb6dec228aa"
      },
      "outputs": [
        {
          "name": "stdout",
          "output_type": "stream",
          "text": [
            "CNNModel(\n",
            "  (conv1): Conv2d(1, 32, kernel_size=(3, 3), stride=(1, 1), padding=(1, 1))\n",
            "  (pool1): MaxPool2d(kernel_size=2, stride=2, padding=1, dilation=1, ceil_mode=False)\n",
            "  (conv2): Conv2d(32, 64, kernel_size=(3, 3), stride=(1, 1), padding=(1, 1))\n",
            "  (conv3): Conv2d(64, 128, kernel_size=(3, 3), stride=(1, 1), padding=(1, 1))\n",
            "  (conv4): Conv2d(128, 256, kernel_size=(3, 3), stride=(1, 1), padding=(1, 1))\n",
            "  (pool2): MaxPool2d(kernel_size=2, stride=2, padding=0, dilation=1, ceil_mode=False)\n",
            "  (dropout): Dropout(p=0.2, inplace=False)\n",
            "  (fc1): Linear(in_features=12544, out_features=1000, bias=True)\n",
            "  (fc2): Linear(in_features=1000, out_features=500, bias=True)\n",
            "  (fc3): Linear(in_features=500, out_features=10, bias=True)\n",
            ")\n"
          ]
        }
      ],
      "source": [
        "# STEP 3: Define the CNN Model (Based on Given Diagram)\n",
        "\n",
        "class CNNModel(nn.Module):\n",
        "    def __init__(self):\n",
        "        super(CNNModel, self).__init__()\n",
        "\n",
        "        # --- Convolutional Layers ---\n",
        "        self.conv1 = nn.Conv2d(1, 32, kernel_size=3, stride=1, padding=1)\n",
        "        self.pool1 = nn.MaxPool2d(kernel_size=2, stride=2, padding=1)\n",
        "\n",
        "        self.conv2 = nn.Conv2d(32, 64, kernel_size=3, stride=1, padding=1)\n",
        "        self.conv3 = nn.Conv2d(64, 128, kernel_size=3, stride=1, padding=1)\n",
        "        self.conv4 = nn.Conv2d(128, 256, kernel_size=3, stride=1, padding=1)\n",
        "        self.pool2 = nn.MaxPool2d(kernel_size=2, stride=2, padding=0)\n",
        "\n",
        "        # Dropout\n",
        "        self.dropout = nn.Dropout(p=0.2)\n",
        "\n",
        "        # Fully connected layers\n",
        "        self.fc1 = nn.Linear(256 * 7 * 7, 1000)\n",
        "        self.fc2 = nn.Linear(1000, 500)\n",
        "        self.fc3 = nn.Linear(500, 10)  # 10 classes for MNIST digits\n",
        "\n",
        "    def forward(self, x):\n",
        "        x = F.relu(self.conv1(x))\n",
        "        x = self.pool1(x)\n",
        "\n",
        "        x = F.relu(self.conv2(x))\n",
        "        x = F.relu(self.conv3(x))\n",
        "        x = F.relu(self.conv4(x))\n",
        "        x = self.pool2(x)\n",
        "\n",
        "        x = self.dropout(x)\n",
        "        x = x.view(x.size(0), -1)  # Flatten\n",
        "\n",
        "        x = F.relu(self.fc1(x))\n",
        "        x = F.relu(self.fc2(x))\n",
        "        x = F.softmax(self.fc3(x), dim=1)\n",
        "        return x\n",
        "\n",
        "# Instantiate the model\n",
        "model = CNNModel()\n",
        "print(model)"
      ]
    },
    {
      "cell_type": "code",
      "execution_count": null,
      "metadata": {
        "id": "fqLmavdRzQNp"
      },
      "outputs": [],
      "source": [
        "# STEP 4: Define Loss Function and Optimizer\n",
        "\n",
        "criterion = nn.CrossEntropyLoss()\n",
        "optimizer = optim.Adam(model.parameters(), lr=0.001)"
      ]
    },
    {
      "cell_type": "code",
      "execution_count": null,
      "metadata": {
        "colab": {
          "base_uri": "https://localhost:8080/"
        },
        "id": "oJUimBXjzUnH",
        "outputId": "a97a5fdd-f9c9-4d1b-94ba-9397e2afb124"
      },
      "outputs": [
        {
          "name": "stdout",
          "output_type": "stream",
          "text": [
            "Epoch [1/3], Loss: 1.6981\n",
            "Epoch [2/3], Loss: 2.2520\n",
            "Epoch [3/3], Loss: 2.3624\n"
          ]
        }
      ],
      "source": [
        "# STEP 5: Training Loop\n",
        "\n",
        "epochs = 3  # keep small for testing\n",
        "for epoch in range(epochs):\n",
        "    running_loss = 0.0\n",
        "    for images, labels in train_loader:\n",
        "        # Forward pass\n",
        "        outputs = model(images)\n",
        "        loss = criterion(outputs, labels)\n",
        "\n",
        "        # Backpropagation\n",
        "        optimizer.zero_grad()\n",
        "        loss.backward()\n",
        "        optimizer.step()\n",
        "\n",
        "        running_loss += loss.item()\n",
        "\n",
        "    print(f\"Epoch [{epoch+1}/{epochs}], Loss: {running_loss/len(train_loader):.4f}\")"
      ]
    },
    {
      "cell_type": "code",
      "execution_count": null,
      "metadata": {
        "colab": {
          "base_uri": "https://localhost:8080/"
        },
        "id": "Nod5mM_wzXz2",
        "outputId": "dd498586-7cb1-4ab5-a94e-ee3c5741664b"
      },
      "outputs": [
        {
          "name": "stdout",
          "output_type": "stream",
          "text": [
            "Test Accuracy: 9.80%\n"
          ]
        }
      ],
      "source": [
        "# STEP 6: Evaluate Model on Test Data\n",
        "\n",
        "correct = 0\n",
        "total = 0\n",
        "with torch.no_grad():\n",
        "    for images, labels in test_loader:\n",
        "        outputs = model(images)\n",
        "        _, predicted = torch.max(outputs.data, 1)\n",
        "        total += labels.size(0)\n",
        "        correct += (predicted == labels).sum().item()\n",
        "\n",
        "accuracy = 100 * correct / total\n",
        "print(f\"Test Accuracy: {accuracy:.2f}%\")"
      ]
    },
    {
      "cell_type": "code",
      "execution_count": null,
      "metadata": {
        "colab": {
          "base_uri": "https://localhost:8080/"
        },
        "id": "dnu7usrS80lC",
        "outputId": "38042d7f-772f-4a72-b833-f3821c0f3ea9"
      },
      "outputs": [
        {
          "name": "stdout",
          "output_type": "stream",
          "text": [
            "True Labels: [7 2 1 0 4 1 4 9 5 9]\n",
            "Predicted Labels: [0 0 0 0 0 0 0 0 0 0]\n"
          ]
        }
      ],
      "source": [
        "# STEP 7: Final Output (Instead of Visualizations)\n",
        "# Generate sample predictions\n",
        "\n",
        "data_iter = iter(test_loader)\n",
        "images, labels = next(data_iter)\n",
        "\n",
        "outputs = model(images)\n",
        "_, preds = torch.max(outputs, 1)\n",
        "\n",
        "print(\"True Labels:\", labels[:10].numpy())\n",
        "print(\"Predicted Labels:\", preds[:10].numpy())"
      ]
    },
    {
      "cell_type": "code",
      "execution_count": null,
      "metadata": {
        "id": "a-1MHPoj8_ws"
      },
      "outputs": [],
      "source": []
    }
  ],
  "metadata": {
    "colab": {
      "provenance": []
    },
    "kernelspec": {
      "display_name": "Python 3",
      "name": "python3"
    },
    "language_info": {
      "name": "python"
    }
  },
  "nbformat": 4,
  "nbformat_minor": 0
}
