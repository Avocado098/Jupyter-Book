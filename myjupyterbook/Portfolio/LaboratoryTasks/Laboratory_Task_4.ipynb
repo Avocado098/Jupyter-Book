{
 "cells": [
  {
   "cell_type": "markdown",
   "id": "162badb5-22b1-4597-ae8a-285144b088d8",
   "metadata": {},
   "source": [
    "Name: **Rachel Jasmine Canaman** <br>\n",
    "Section: **DS4A**"
   ]
  },
  {
   "cell_type": "markdown",
   "id": "4b603f9d-ad7f-42e3-be21-0c286ecf7911",
   "metadata": {},
   "source": [
    "# Laboratory Task 4"
   ]
  },
  {
   "cell_type": "markdown",
   "id": "e0530193-9c95-4184-a567-b76be097dc3c",
   "metadata": {},
   "source": [
    "![Result Image](image3.png)"
   ]
  },
  {
   "cell_type": "markdown",
   "id": "65559e46-b6ee-490b-8dbe-711dd281643b",
   "metadata": {},
   "source": [
    "**Objective:**  \n",
    "Train a linear regression model in PyTorch using a regression dataset with the following parameters"
   ]
  },
  {
   "cell_type": "markdown",
   "id": "24431801-ee38-4b55-84f9-adfb120d05c8",
   "metadata": {},
   "source": [
    "**Step 1: Import Libraries**"
   ]
  },
  {
   "cell_type": "code",
   "execution_count": 1,
   "id": "5a3bc74a-3f1c-4bc5-ab6d-bd648cbb42a6",
   "metadata": {},
   "outputs": [],
   "source": [
    "import torch\n",
    "import torch.nn as nn\n",
    "import torch.optim as optim"
   ]
  },
  {
   "cell_type": "markdown",
   "id": "e473b7ed-0f9a-41ed-99d2-243f03fe1461",
   "metadata": {},
   "source": [
    "**Step 2: Prepare Dataset**"
   ]
  },
  {
   "cell_type": "code",
   "execution_count": 2,
   "id": "07214f64-329e-4343-9ab1-2a408e3ce2fb",
   "metadata": {},
   "outputs": [],
   "source": [
    "# Generate sample regression data\n",
    "torch.manual_seed(42)\n",
    "inputs = torch.rand(100, 1) * 10  # 100 samples, 1 feature\n",
    "targets = 2 * inputs + 3 + torch.randn(100, 1) * 0.5  # y = 2x + 3 + noise"
   ]
  },
  {
   "cell_type": "markdown",
   "id": "07940ac3-b543-47a9-9242-c2408cdcbf5c",
   "metadata": {},
   "source": [
    "**Step 3: Define Model**"
   ]
  },
  {
   "cell_type": "code",
   "execution_count": 3,
   "id": "cf60bc81-1876-4a0f-880f-daae5642d744",
   "metadata": {},
   "outputs": [],
   "source": [
    "# Define a simple neural network with 2 fully connected layers\n",
    "class LinearRegressionModel(nn.Module):\n",
    "    def __init__(self):\n",
    "        super(LinearRegressionModel, self).__init__()\n",
    "        self.fc1 = nn.Linear(1, 8)\n",
    "        self.fc2 = nn.Linear(8, 1)\n",
    "    \n",
    "    def forward(self, x):\n",
    "        x = torch.relu(self.fc1(x))\n",
    "        return self.fc2(x)\n",
    "\n",
    "model = LinearRegressionModel()"
   ]
  },
  {
   "cell_type": "markdown",
   "id": "371a2a45-ba32-4e47-a123-b518fabe1829",
   "metadata": {},
   "source": [
    "**Step 4: Define Loss and Optimizer**"
   ]
  },
  {
   "cell_type": "code",
   "execution_count": 4,
   "id": "ea6841cc-9c9b-47e3-9cc8-f23b24ecf6e2",
   "metadata": {},
   "outputs": [],
   "source": [
    "criterion_mse = nn.MSELoss()\n",
    "optimizer = optim.SGD(model.parameters(), lr=0.01)"
   ]
  },
  {
   "cell_type": "markdown",
   "id": "decf2224-e05b-45c9-a84d-5b4d39bbe15d",
   "metadata": {},
   "source": [
    "**Step 5: Training Loop**"
   ]
  },
  {
   "cell_type": "code",
   "execution_count": 5,
   "id": "288f57a0-7cd7-4999-9b47-e6ba3613a61c",
   "metadata": {},
   "outputs": [
    {
     "name": "stdout",
     "output_type": "stream",
     "text": [
      "Epoch [100/1000], Loss: 3.5201\n",
      "Epoch [200/1000], Loss: 10.6239\n",
      "Epoch [300/1000], Loss: 7.6282\n",
      "Epoch [400/1000], Loss: 5.8339\n",
      "Epoch [500/1000], Loss: 4.4733\n",
      "Epoch [600/1000], Loss: 3.4270\n",
      "Epoch [700/1000], Loss: 2.6007\n",
      "Epoch [800/1000], Loss: 2.0030\n",
      "Epoch [900/1000], Loss: 1.5861\n",
      "Epoch [1000/1000], Loss: 1.2639\n"
     ]
    }
   ],
   "source": [
    "epochs = 1000\n",
    "batch_size = 8\n",
    "\n",
    "for epoch in range(epochs):\n",
    "    # Forward pass\n",
    "    preds = model(inputs)\n",
    "    loss = criterion_mse(preds, targets)\n",
    "\n",
    "    # Backward pass\n",
    "    optimizer.zero_grad()\n",
    "    loss.backward()\n",
    "    optimizer.step()\n",
    "\n",
    "    # Print loss every 100 epochs\n",
    "    if (epoch + 1) % 100 == 0:\n",
    "        print(f'Epoch [{epoch+1}/{epochs}], Loss: {loss.item():.4f}')"
   ]
  },
  {
   "cell_type": "markdown",
   "id": "a0d8d788-8566-4f2d-88e2-2871de64f7d8",
   "metadata": {},
   "source": [
    "**Step 6: Generate Predictions and Display Loss**"
   ]
  },
  {
   "cell_type": "code",
   "execution_count": 7,
   "id": "5fa7de2b-c8fa-4375-86af-6905a25e55eb",
   "metadata": {},
   "outputs": [
    {
     "name": "stdout",
     "output_type": "stream",
     "text": [
      "Final Loss: 1.5628983974456787\n"
     ]
    }
   ],
   "source": [
    "preds = model(inputs)\n",
    "loss = criterion_mse(preds, targets)\n",
    "print(\"Final Loss:\", loss.item())"
   ]
  },
  {
   "cell_type": "markdown",
   "id": "4ee45869-b995-4afe-a7e2-bd05230cebdb",
   "metadata": {},
   "source": [
    "**Conclusion**\n",
    "\n",
    "The model successfully learned the linear relationship between input and target values. After 1000 epochs, the final MSE loss was relatively low, indicating that the model’s predictions are close to the target values. This demonstrates that PyTorch can effectively model simple regression tasks using neural networks."
   ]
  }
 ],
 "metadata": {
  "kernelspec": {
   "display_name": "Python 3 (ipykernel)",
   "language": "python",
   "name": "python3"
  },
  "language_info": {
   "codemirror_mode": {
    "name": "ipython",
    "version": 3
   },
   "file_extension": ".py",
   "mimetype": "text/x-python",
   "name": "python",
   "nbconvert_exporter": "python",
   "pygments_lexer": "ipython3",
   "version": "3.12.6"
  }
 },
 "nbformat": 4,
 "nbformat_minor": 5
}
